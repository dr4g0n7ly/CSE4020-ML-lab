{
 "cells": [
  {
   "cell_type": "code",
   "execution_count": 27,
   "id": "bd31fd53",
   "metadata": {},
   "outputs": [
    {
     "data": {
      "text/html": [
       "<div>\n",
       "<style scoped>\n",
       "    .dataframe tbody tr th:only-of-type {\n",
       "        vertical-align: middle;\n",
       "    }\n",
       "\n",
       "    .dataframe tbody tr th {\n",
       "        vertical-align: top;\n",
       "    }\n",
       "\n",
       "    .dataframe thead th {\n",
       "        text-align: right;\n",
       "    }\n",
       "</style>\n",
       "<table border=\"1\" class=\"dataframe\">\n",
       "  <thead>\n",
       "    <tr style=\"text-align: right;\">\n",
       "      <th></th>\n",
       "      <th>Country</th>\n",
       "      <th>Year</th>\n",
       "      <th>Gender</th>\n",
       "      <th>LifeExpectancy</th>\n",
       "      <th>Income</th>\n",
       "      <th>Education</th>\n",
       "      <th>Region</th>\n",
       "      <th>GDPperCapita</th>\n",
       "      <th>BirthRate</th>\n",
       "      <th>MortalityRate</th>\n",
       "    </tr>\n",
       "  </thead>\n",
       "  <tbody>\n",
       "    <tr>\n",
       "      <th>0</th>\n",
       "      <td>United States</td>\n",
       "      <td>2020</td>\n",
       "      <td>Male</td>\n",
       "      <td>76</td>\n",
       "      <td>60000.0</td>\n",
       "      <td>Bachelor</td>\n",
       "      <td>North America</td>\n",
       "      <td>50000</td>\n",
       "      <td>12.0</td>\n",
       "      <td>5.0</td>\n",
       "    </tr>\n",
       "    <tr>\n",
       "      <th>1</th>\n",
       "      <td>United States</td>\n",
       "      <td>2020</td>\n",
       "      <td>Female</td>\n",
       "      <td>81</td>\n",
       "      <td>50000.0</td>\n",
       "      <td>Bachelor</td>\n",
       "      <td>North America</td>\n",
       "      <td>50000</td>\n",
       "      <td>9.0</td>\n",
       "      <td>3.0</td>\n",
       "    </tr>\n",
       "    <tr>\n",
       "      <th>2</th>\n",
       "      <td>Japan</td>\n",
       "      <td>2020</td>\n",
       "      <td>Male</td>\n",
       "      <td>84</td>\n",
       "      <td>50000.0</td>\n",
       "      <td>Bachelor</td>\n",
       "      <td>Asia</td>\n",
       "      <td>40000</td>\n",
       "      <td>7.0</td>\n",
       "      <td>2.0</td>\n",
       "    </tr>\n",
       "    <tr>\n",
       "      <th>3</th>\n",
       "      <td>Japan</td>\n",
       "      <td>2020</td>\n",
       "      <td>Female</td>\n",
       "      <td>89</td>\n",
       "      <td>40000.0</td>\n",
       "      <td>Bachelor</td>\n",
       "      <td>Asia</td>\n",
       "      <td>40000</td>\n",
       "      <td>6.0</td>\n",
       "      <td>1.0</td>\n",
       "    </tr>\n",
       "    <tr>\n",
       "      <th>4</th>\n",
       "      <td>Canada</td>\n",
       "      <td>2020</td>\n",
       "      <td>Male</td>\n",
       "      <td>81</td>\n",
       "      <td>60000.0</td>\n",
       "      <td>Master</td>\n",
       "      <td>North America</td>\n",
       "      <td>50000</td>\n",
       "      <td>10.0</td>\n",
       "      <td>3.0</td>\n",
       "    </tr>\n",
       "  </tbody>\n",
       "</table>\n",
       "</div>"
      ],
      "text/plain": [
       "         Country  Year  Gender  LifeExpectancy   Income Education  \\\n",
       "0  United States  2020    Male              76  60000.0  Bachelor   \n",
       "1  United States  2020  Female              81  50000.0  Bachelor   \n",
       "2          Japan  2020    Male              84  50000.0  Bachelor   \n",
       "3          Japan  2020  Female              89  40000.0  Bachelor   \n",
       "4         Canada  2020    Male              81  60000.0    Master   \n",
       "\n",
       "          Region  GDPperCapita  BirthRate  MortalityRate  \n",
       "0  North America         50000       12.0            5.0  \n",
       "1  North America         50000        9.0            3.0  \n",
       "2           Asia         40000        7.0            2.0  \n",
       "3           Asia         40000        6.0            1.0  \n",
       "4  North America         50000       10.0            3.0  "
      ]
     },
     "execution_count": 27,
     "metadata": {},
     "output_type": "execute_result"
    }
   ],
   "source": [
    "import pandas as pd\n",
    "\n",
    "df = pd.read_csv('life_expectancy.csv')\n",
    "df.head()"
   ]
  },
  {
   "cell_type": "code",
   "execution_count": 28,
   "id": "cdbf6df8",
   "metadata": {},
   "outputs": [],
   "source": [
    "X = df.drop(['Country', 'Year', 'LifeExpectancy'], axis=1)\n",
    "y = df['LifeExpectancy']"
   ]
  },
  {
   "cell_type": "code",
   "execution_count": 30,
   "id": "aa9f4d90",
   "metadata": {},
   "outputs": [],
   "source": [
    "from sklearn.preprocessing import LabelEncoder\n",
    "le = LabelEncoder()\n",
    "\n",
    "X['Gender'] = le.fit_transform(X['Gender'])\n",
    "X['Education'] = le.fit_transform(X['Education'])\n",
    "X['Region'] = le.fit_transform(X['Region'])"
   ]
  },
  {
   "cell_type": "code",
   "execution_count": 39,
   "id": "a46fe17b",
   "metadata": {},
   "outputs": [],
   "source": [
    "X['Income'] = X['Income'].fillna(int(X['Income'].mean()))\n",
    "X['BirthRate'] = X['BirthRate'].fillna(int(X['BirthRate'].mean()))\n",
    "X['MortalityRate'] = X['MortalityRate'].fillna(int(X['MortalityRate'].mean()))"
   ]
  },
  {
   "cell_type": "code",
   "execution_count": 41,
   "id": "d0db7c71",
   "metadata": {},
   "outputs": [],
   "source": [
    "from sklearn.model_selection import train_test_split\n",
    "X_train, X_test, y_train, y_test = train_test_split(X, y, shuffle=True, random_state=21, test_size=0.2)"
   ]
  },
  {
   "cell_type": "code",
   "execution_count": 47,
   "id": "2f93a530",
   "metadata": {},
   "outputs": [
    {
     "data": {
      "text/plain": [
       "DecisionTreeClassifier(criterion='entropy', max_depth=3)"
      ]
     },
     "execution_count": 47,
     "metadata": {},
     "output_type": "execute_result"
    }
   ],
   "source": [
    "from sklearn.tree import DecisionTreeClassifier\n",
    "model = DecisionTreeClassifier(criterion=\"entropy\", max_depth=3)\n",
    "model.fit(X_train, y_train)"
   ]
  },
  {
   "cell_type": "code",
   "execution_count": 46,
   "id": "f82b350f",
   "metadata": {},
   "outputs": [
    {
     "name": "stdout",
     "output_type": "stream",
     "text": [
      "Accuracy:  0.0\n"
     ]
    }
   ],
   "source": [
    "from sklearn.metrics import accuracy_score\n",
    "y_pred = model.predict(X_test)\n",
    "print(\"Accuracy: \", accuracy_score(y_test, y_pred))"
   ]
  },
  {
   "cell_type": "code",
   "execution_count": 48,
   "id": "e3122efd",
   "metadata": {},
   "outputs": [
    {
     "data": {
      "text/html": [
       "<div>\n",
       "<style scoped>\n",
       "    .dataframe tbody tr th:only-of-type {\n",
       "        vertical-align: middle;\n",
       "    }\n",
       "\n",
       "    .dataframe tbody tr th {\n",
       "        vertical-align: top;\n",
       "    }\n",
       "\n",
       "    .dataframe thead th {\n",
       "        text-align: right;\n",
       "    }\n",
       "</style>\n",
       "<table border=\"1\" class=\"dataframe\">\n",
       "  <thead>\n",
       "    <tr style=\"text-align: right;\">\n",
       "      <th></th>\n",
       "      <th>Gender</th>\n",
       "      <th>Income</th>\n",
       "      <th>Education</th>\n",
       "      <th>Region</th>\n",
       "      <th>GDPperCapita</th>\n",
       "      <th>BirthRate</th>\n",
       "      <th>MortalityRate</th>\n",
       "    </tr>\n",
       "  </thead>\n",
       "  <tbody>\n",
       "    <tr>\n",
       "      <th>1</th>\n",
       "      <td>0</td>\n",
       "      <td>50000.0</td>\n",
       "      <td>0</td>\n",
       "      <td>2</td>\n",
       "      <td>50000</td>\n",
       "      <td>9.0</td>\n",
       "      <td>3.0</td>\n",
       "    </tr>\n",
       "    <tr>\n",
       "      <th>19</th>\n",
       "      <td>1</td>\n",
       "      <td>60000.0</td>\n",
       "      <td>0</td>\n",
       "      <td>1</td>\n",
       "      <td>50000</td>\n",
       "      <td>12.0</td>\n",
       "      <td>5.0</td>\n",
       "    </tr>\n",
       "    <tr>\n",
       "      <th>25</th>\n",
       "      <td>1</td>\n",
       "      <td>60000.0</td>\n",
       "      <td>1</td>\n",
       "      <td>3</td>\n",
       "      <td>50000</td>\n",
       "      <td>7.0</td>\n",
       "      <td>2.0</td>\n",
       "    </tr>\n",
       "    <tr>\n",
       "      <th>5</th>\n",
       "      <td>0</td>\n",
       "      <td>50000.0</td>\n",
       "      <td>3</td>\n",
       "      <td>2</td>\n",
       "      <td>50000</td>\n",
       "      <td>8.0</td>\n",
       "      <td>2.0</td>\n",
       "    </tr>\n",
       "    <tr>\n",
       "      <th>7</th>\n",
       "      <td>0</td>\n",
       "      <td>30000.0</td>\n",
       "      <td>0</td>\n",
       "      <td>0</td>\n",
       "      <td>30000</td>\n",
       "      <td>12.0</td>\n",
       "      <td>4.0</td>\n",
       "    </tr>\n",
       "    <tr>\n",
       "      <th>20</th>\n",
       "      <td>0</td>\n",
       "      <td>50000.0</td>\n",
       "      <td>0</td>\n",
       "      <td>1</td>\n",
       "      <td>50000</td>\n",
       "      <td>9.0</td>\n",
       "      <td>3.0</td>\n",
       "    </tr>\n",
       "  </tbody>\n",
       "</table>\n",
       "</div>"
      ],
      "text/plain": [
       "    Gender   Income  Education  Region  GDPperCapita  BirthRate  MortalityRate\n",
       "1        0  50000.0          0       2         50000        9.0            3.0\n",
       "19       1  60000.0          0       1         50000       12.0            5.0\n",
       "25       1  60000.0          1       3         50000        7.0            2.0\n",
       "5        0  50000.0          3       2         50000        8.0            2.0\n",
       "7        0  30000.0          0       0         30000       12.0            4.0\n",
       "20       0  50000.0          0       1         50000        9.0            3.0"
      ]
     },
     "execution_count": 48,
     "metadata": {},
     "output_type": "execute_result"
    }
   ],
   "source": [
    "X_test"
   ]
  },
  {
   "cell_type": "code",
   "execution_count": 49,
   "id": "fbde9415",
   "metadata": {},
   "outputs": [
    {
     "data": {
      "text/plain": [
       "array([76, 76, 82, 81, 68, 76], dtype=int64)"
      ]
     },
     "execution_count": 49,
     "metadata": {},
     "output_type": "execute_result"
    }
   ],
   "source": [
    "y_pred"
   ]
  },
  {
   "cell_type": "code",
   "execution_count": 50,
   "id": "3931567b",
   "metadata": {},
   "outputs": [
    {
     "data": {
      "text/plain": [
       "1     81\n",
       "19    68\n",
       "25    80\n",
       "5     84\n",
       "7     81\n",
       "20    72\n",
       "Name: LifeExpectancy, dtype: int64"
      ]
     },
     "execution_count": 50,
     "metadata": {},
     "output_type": "execute_result"
    }
   ],
   "source": [
    "y_test"
   ]
  },
  {
   "cell_type": "code",
   "execution_count": null,
   "id": "fc6b990c",
   "metadata": {},
   "outputs": [],
   "source": []
  }
 ],
 "metadata": {
  "kernelspec": {
   "display_name": "Python 3 (ipykernel)",
   "language": "python",
   "name": "python3"
  },
  "language_info": {
   "codemirror_mode": {
    "name": "ipython",
    "version": 3
   },
   "file_extension": ".py",
   "mimetype": "text/x-python",
   "name": "python",
   "nbconvert_exporter": "python",
   "pygments_lexer": "ipython3",
   "version": "3.9.13"
  }
 },
 "nbformat": 4,
 "nbformat_minor": 5
}
